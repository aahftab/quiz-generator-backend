{
 "cells": [
  {
   "cell_type": "code",
   "execution_count": 30,
   "metadata": {},
   "outputs": [],
   "source": [
    "import os\n",
    "import dotenv\n",
    "dotenv.load_dotenv()\n",
    "import google.generativeai as genai\n",
    "import typing_extensions as typing\n",
    "import json\n",
    "\n",
    "genai.configure(api_key=os.environ[\"GEMINI_API_KEY\"])\n",
    "\n",
    "# Create the model\n",
    "quiz_generation_config = {\n",
    "  \"temperature\": 0.7,\n",
    "  \"top_p\": 0.95,\n",
    "  \"top_k\": 20,\n",
    "  \"max_output_tokens\": 8192,\n",
    "  \"response_mime_type\": \"application/json\",\n",
    "}\n",
    "\n",
    "summary_generation_config = {\n",
    "  \"temperature\": 0.7,\n",
    "  \"top_p\": 0.95,\n",
    "  \"top_k\": 60,\n",
    "  \"max_output_tokens\": 8192,\n",
    "  \"response_mime_type\": \"text/plain\",\n",
    "}\n",
    "GEMINI_PRO_2_5 = \"gemini-2.5-flash-preview-05-20\"\n",
    "\n",
    "quiz_model = genai.GenerativeModel(\n",
    "  model_name=GEMINI_PRO_2_5,\n",
    "  generation_config=quiz_generation_config,\n",
    "  system_instruction=\"You are a helpful assistant which helps teachers generate quiz from given content based on user requirements.\",\n",
    ")\n",
    "summary_model = genai.GenerativeModel(\n",
    "  model_name=GEMINI_PRO_2_5,\n",
    "  generation_config=summary_generation_config,\n",
    "  system_instruction=\"You are a helpful assistant which helps teachers generate summary from given content based on user requirements.\",\n",
    ")\n",
    "\n",
    "quiz_chat_session = quiz_model.start_chat(\n",
    "  history=[\n",
    "  ]\n",
    ")\n",
    "summary_chat_session = summary_model.start_chat(\n",
    "  history=[\n",
    "  ]\n",
    ")\n",
    "\n"
   ]
  },
  {
   "cell_type": "code",
   "execution_count": 3,
   "metadata": {},
   "outputs": [
    {
     "name": "stderr",
     "output_type": "stream",
     "text": [
      "  0%|          | 0/1 [00:00<?, ?it/s]"
     ]
    },
    {
     "name": "stdout",
     "output_type": "stream",
     "text": [
      "WARNING: parsing_instruction is deprecated. Use complemental_formatting_instruction or content_guideline_instruction instead.\n",
      "Started parsing the file under job_id 69096d42-dcd9-4a1d-beb0-b40406692e07\n"
     ]
    },
    {
     "name": "stderr",
     "output_type": "stream",
     "text": [
      "100%|██████████| 1/1 [00:28<00:00, 28.31s/it]\n"
     ]
    }
   ],
   "source": [
    "import nest_asyncio\n",
    "nest_asyncio.apply()\n",
    "\n",
    "# bring in deps\n",
    "from llama_parse import LlamaParse\n",
    "from llama_index.core import SimpleDirectoryReader\n",
    "\n",
    "# set up parser\n",
    "parser = LlamaParse(\n",
    "    result_type=\"markdown\"  # \"markdown\" and \"text\" are available\n",
    ")\n",
    "\n",
    "# use SimpleDirectoryReader to parse our file\n",
    "file_extractor = {\".pdf\": parser}\n",
    "\n",
    "# Ensure the async method is awaited\n",
    "import asyncio\n",
    "\n",
    "# Define a global variable to store the text\n",
    "\n",
    "async def load_documents():\n",
    "    global all_text\n",
    "    global documents\n",
    "    documents = await SimpleDirectoryReader(input_files=['/Users/aftab/ClassTest/TheHistoryofComputers1.pdf'], file_extractor=file_extractor).aload_data(show_progress=True)\n",
    "    all_text = \"\\n\".join([doc.text_resource.text for doc in documents])\n",
    "\n",
    "# Run the async function\n",
    "asyncio.run(load_documents())"
   ]
  },
  {
   "cell_type": "code",
   "execution_count": null,
   "metadata": {},
   "outputs": [],
   "source": [
    "quiz_format = \"\"\"\n",
    "{\n",
    "  quiz_title:str,\n",
    "    questions: [\n",
    "      {\n",
    "      \"question_id\": int,\n",
    "      \"question\": str,\n",
    "      \"options\": [{\"option_id\": int, \"option\": str}],\n",
    "      \"correct_option_id\": int\n",
    "      }\n",
    "    ]\n",
    "}\n",
    "\"\"\""
   ]
  },
  {
   "cell_type": "code",
   "execution_count": 31,
   "metadata": {},
   "outputs": [],
   "source": [
    "def generate_summary(text: str) -> str:\n",
    "    response = summary_chat_session.send_message(f\"Generate datailed and precise summary in points without leaving any small detail from the given content: {text}\")\n",
    "\n",
    "\n",
    "    return response.text"
   ]
  },
  {
   "cell_type": "code",
   "execution_count": 257,
   "metadata": {},
   "outputs": [],
   "source": [
    "MAX_QUESTIONS = 20\n",
    "def generate_quiz(text, num_questions=MAX_QUESTIONS):\n",
    "    response = quiz_chat_session.send_message(f\"Create a quiz of {num_questions} questions returning data in this JSON format: \\n{quiz_format} on the content given below\\n\\n{text}\")\n",
    "    return response.text"
   ]
  },
  {
   "cell_type": "code",
   "execution_count": 10,
   "metadata": {},
   "outputs": [],
   "source": [
    "answers = []\n",
    "answers.append(generate_quiz(all_text,15))\n"
   ]
  },
  {
   "cell_type": "code",
   "execution_count": 11,
   "metadata": {},
   "outputs": [
    {
     "name": "stdout",
     "output_type": "stream",
     "text": [
      "[{'quiz_title': 'History of Computers Quiz', 'questions': [{'question_id': 1, 'question': 'What was the first computing device?', 'options': [{'option_id': 1, 'option': 'Astrolabe'}, {'option_id': 2, 'option': 'Abacus'}, {'option_id': 3, 'option': 'Pascaline'}, {'option_id': 4, 'option': 'Difference Engine'}], 'correct_option_id': 2}, {'question_id': 2, 'question': 'Who invented the first digital computer that could only add?', 'options': [{'option_id': 1, 'option': 'Gottfried Wilhelm von Leibniz'}, {'option_id': 2, 'option': 'Charles Babbage'}, {'option_id': 3, 'option': 'Blaise Pascal'}, {'option_id': 4, 'option': 'Alan Turing'}], 'correct_option_id': 3}, {'question_id': 3, 'question': 'Which inventor created a computer that could add and multiply?', 'options': [{'option_id': 1, 'option': 'Blaise Pascal'}, {'option_id': 2, 'option': 'Charles Babbage'}, {'option_id': 3, 'option': 'Gottfried Wilhelm von Leibniz'}, {'option_id': 4, 'option': 'John Napier'}], 'correct_option_id': 3}, {'question_id': 4, 'question': 'When was the abacus invented in Babylon?', 'options': [{'option_id': 1, 'option': '3000 B.C.'}, {'option_id': 2, 'option': '1800 B.C.'}, {'option_id': 3, 'option': '500 B.C.'}, {'option_id': 4, 'option': '200 B.C.'}], 'correct_option_id': 1}, {'question_id': 5, 'question': \"Who is considered the 'Father of Computing'?\", 'options': [{'option_id': 1, 'option': 'Blaise Pascal'}, {'option_id': 2, 'option': 'Gottfried Wilhelm von Leibniz'}, {'option_id': 3, 'option': 'Alan Turing'}, {'option_id': 4, 'option': 'Charles Babbage'}], 'correct_option_id': 4}, {'question_id': 6, 'question': 'What was the key technology used in the first generation of computers?', 'options': [{'option_id': 1, 'option': 'Transistors'}, {'option_id': 2, 'option': 'Integrated Circuits'}, {'option_id': 3, 'option': 'Microprocessors'}, {'option_id': 4, 'option': 'Vacuum Tubes'}], 'correct_option_id': 4}, {'question_id': 7, 'question': 'Which of the following is an example of a first-generation computer?', 'options': [{'option_id': 1, 'option': 'IBM 604'}, {'option_id': 2, 'option': 'UNIVAC'}, {'option_id': 3, 'option': 'Apple II'}, {'option_id': 4, 'option': 'Intel 4004'}], 'correct_option_id': 2}, {'question_id': 8, 'question': 'What replaced vacuum tubes in the second generation of computers?', 'options': [{'option_id': 1, 'option': 'Integrated Circuits'}, {'option_id': 2, 'option': 'Transistors'}, {'option_id': 3, 'option': 'Microprocessors'}, {'option_id': 4, 'option': 'Magnetic Cores'}], 'correct_option_id': 2}, {'question_id': 9, 'question': 'Which of the following programming languages were developed during the second generation?', 'options': [{'option_id': 1, 'option': 'Machine Language'}, {'option_id': 2, 'option': 'Assembly Language'}, {'option_id': 3, 'option': 'COBOL and FORTRAN'}, {'option_id': 4, 'option': 'Binary Language'}], 'correct_option_id': 3}, {'question_id': 10, 'question': 'What was the hallmark of the third generation of computers?', 'options': [{'option_id': 1, 'option': 'Vacuum Tubes'}, {'option_id': 2, 'option': 'Transistors'}, {'option_id': 3, 'option': 'Integrated Circuits'}, {'option_id': 4, 'option': 'Microprocessors'}], 'correct_option_id': 3}, {'question_id': 11, 'question': 'What is the defining characteristic of fourth-generation computers?', 'options': [{'option_id': 1, 'option': 'Integrated Circuits'}, {'option_id': 2, 'option': 'Microprocessors'}, {'option_id': 3, 'option': 'Vacuum Tubes'}, {'option_id': 4, 'option': 'Transistors'}], 'correct_option_id': 2}, {'question_id': 12, 'question': 'Which company introduced the first computer for the home user in 1981?', 'options': [{'option_id': 1, 'option': 'Apple'}, {'option_id': 2, 'option': 'Intel'}, {'option_id': 3, 'option': 'IBM'}, {'option_id': 4, 'option': 'Remington-Rand'}], 'correct_option_id': 3}, {'question_id': 13, 'question': 'What is the primary focus of fifth-generation computing?', 'options': [{'option_id': 1, 'option': 'Vacuum Tube Technology'}, {'option_id': 2, 'option': 'Artificial Intelligence'}, {'option_id': 3, 'option': 'Transistor Technology'}, {'option_id': 4, 'option': 'Integrated Circuit Technology'}], 'correct_option_id': 2}, {'question_id': 14, 'question': 'Which type of computer calculates physical quantities?', 'options': [{'option_id': 1, 'option': 'Digital Computer'}, {'option_id': 2, 'option': 'Hybrid Computer'}, {'option_id': 3, 'option': 'Analog Computer'}, {'option_id': 4, 'option': 'Micro Computer'}], 'correct_option_id': 3}, {'question_id': 15, 'question': 'What is a hybrid computer?', 'options': [{'option_id': 1, 'option': 'A computer that uses only binary digits'}, {'option_id': 2, 'option': 'A computer that uses physical quantities'}, {'option_id': 3, 'option': 'A computer combining features of analog and digital computers'}, {'option_id': 4, 'option': 'A very small computer used in cameras'}], 'correct_option_id': 3}]}]\n"
     ]
    }
   ],
   "source": [
    "\n",
    "formatted_json = []\n",
    "for answer in answers:\n",
    "  formatted_json.append(json.loads(answer))\n",
    "print(formatted_json)"
   ]
  },
  {
   "cell_type": "code",
   "execution_count": 32,
   "metadata": {},
   "outputs": [],
   "source": [
    "summary = generate_summary(all_text)"
   ]
  },
  {
   "cell_type": "code",
   "execution_count": null,
   "metadata": {},
   "outputs": [],
   "source": [
    "\n",
    "with open(f\"quiz.json\", \"w\") as f:\n",
    "  json.dump(json.loads(formatted_json), f)"
   ]
  }
 ],
 "metadata": {
  "kernelspec": {
   "display_name": ".venv",
   "language": "python",
   "name": "python3"
  },
  "language_info": {
   "codemirror_mode": {
    "name": "ipython",
    "version": 3
   },
   "file_extension": ".py",
   "mimetype": "text/x-python",
   "name": "python",
   "nbconvert_exporter": "python",
   "pygments_lexer": "ipython3",
   "version": "3.13.1"
  }
 },
 "nbformat": 4,
 "nbformat_minor": 2
}
